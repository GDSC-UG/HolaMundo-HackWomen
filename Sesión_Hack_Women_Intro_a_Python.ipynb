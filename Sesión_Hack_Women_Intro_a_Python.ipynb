{
  "nbformat": 4,
  "nbformat_minor": 0,
  "metadata": {
    "colab": {
      "name": "Sesión Hack Women- Intro a Python",
      "provenance": [],
      "collapsed_sections": [],
      "toc_visible": true,
      "include_colab_link": true
    },
    "kernelspec": {
      "name": "python3",
      "display_name": "Python 3"
    }
  },
  "cells": [
    {
      "cell_type": "markdown",
      "metadata": {
        "id": "view-in-github",
        "colab_type": "text"
      },
      "source": [
        "<a href=\"https://colab.research.google.com/github/Yoeli15/HolaMundo-HackWomen/blob/main/Sesi%C3%B3n_Hack_Women_Intro_a_Python.ipynb\" target=\"_parent\"><img src=\"https://colab.research.google.com/assets/colab-badge.svg\" alt=\"Open In Colab\"/></a>"
      ]
    },
    {
      "cell_type": "markdown",
      "metadata": {
        "id": "OpSHrtcJLQEU"
      },
      "source": [
        "# Introducción a Python\n",
        "\n",
        "A lo largo de este cuaderno explicaremos algunos conceptos básicos de Python. Los temas específicos que cubriremos en estos cuadernos introductorios son los siguientes:\n",
        "\n",
        "1. ¿Qué es Python?\n",
        "2. Objetos avanzados: _Listas_ y _diccionarios_\n",
        "3. Empaquetando código - _Funciones_\n",
        "\n",
        "### Planteamiento del problema:\n",
        "\n",
        "Imagina que queremos crear un directorio que contenga toda la información de los estudiantes de nuestro club. Para ello, necesitaremos construir paso a paso la idea completa del proyecto.\n",
        "\n",
        "Para ello, necesitamos saber sobre tipos de variables, objetos avanzados como listas y diccionarios, cómo crear funciones para operar algunos valores y cómo crear nuevos objetos.\n",
        "\n",
        "\n",
        "## ¿Qué es Python?\n",
        "\n",
        "<center>\n",
        "    <img width=\"50%\" src=\"https://www.python.org/static/community_logos/python-logo-generic.svg\">\n",
        "</center>\n",
        "\n",
        "Python es un lenguaje de programación **interpretado**, lo que significa que un _interpretador_ ejecuta y ejecuta su código línea por línea en lugar de compilarlo. Python tiene una sintaxis elegante que te obliga a **aplicar sangría a tu código para construir bloques de código**, por lo que Python no usa `{}` para bloques de código. No es común usar punto y coma en Python (`;`) al final de cualquier oración. Otra cosa interesante de Python es que no necesita declarar variables, solo las define, y sucede que Python **se escribe dinámicamente**.\n",
        "\n",
        "### Hola mundo en Python\n",
        "\n",
        "Usaremos las funciones de entrada y salida de Python para crear nuestro primer hola mundo.\n",
        "\n",
        "Solo necesita ejecutar la siguiente celda con código presionando el botón _play_ o presionando `Shift + Enter` en su teclado."
      ]
    },
    {
      "cell_type": "markdown",
      "metadata": {
        "id": "RSJW87sPXOAh"
      },
      "source": [
        "## Variables\n",
        "\n",
        "Python tiene varios tipos de variables de forma nativa. Comenzando con variables numéricas, Python puede trabajar con números enteros, números flotantes y números complejos. También cuenta con cadenas de caracteres para trabajar con texto y otro tipo de variables llamadas booleanos para guardar valores binarios.\n",
        "\n",
        "La forma en que declaramos las variables es la siguiente:\n",
        "\n",
        "```python\n",
        "variable_name = <value>\n",
        "```\n",
        "\n",
        "El nombre de una variable no puede tener espacios, debe comenzar con una letra, puede contener letras mayúsculas o números dentro del nombre.\n",
        "\n",
        "#### Ejemplo:\n",
        "\n",
        "```python\n",
        "my_dog = \"Mirlo\"\n",
        "```\n",
        "\n",
        "Para obtener el tipo de una variable, podemos usar la función `type ()` y pasar como parámetro la variable que queremos conocer.\n",
        "\n",
        "#### Ejemplo:\n",
        "\n",
        "```python\n",
        "type(my_dog)\n",
        "```"
      ]
    },
    {
      "cell_type": "markdown",
      "metadata": {
        "id": "nlMAcIGEYIef"
      },
      "source": [
        "Hay varios tipos de variables, ¡incluso números complejos en Python!\n",
        "\n",
        "#### Ejercicio:\n",
        "\n",
        "Define e imprime el tipo y valor de las variables denominadas:\n",
        "- `name`, debe ser un` <str> `que contenga cualquier nombre\n",
        "- `age`, debe ser un` <int> `que contenga cualquier edad\n",
        "- `pi`, debe ser un` <float> `que contenga su mejor aproximación a pi\n",
        "- `modulus_one`, debe ser un `<complex>`que tiene [módulo](https://en.wikipedia.org/wiki/Absolute_value#Complex_numbers) uno"
      ]
    },
    {
      "cell_type": "markdown",
      "metadata": {
        "id": "U_cKNLU3YnP8"
      },
      "source": [
        "## Control de flujo (condicionales)\n",
        "\n",
        "Hasta ahora, sabemos cómo definir variables, por lo que podemos crear bloques de código un poco más avanzados. Lo primero que queremos hacer es crear una nueva variable llamada `under_age` y necesitaremos definirla usando una declaración contitional. Para ello, será útil recordar los operadores de comparación (`<, >, <=, >=, ==, !=`).\n",
        "\n",
        "La idea es la siguiente, si la persona es menor de edad, el valor de esta variable será \"Verdadero\" y será \"Falso\" en el otro caso.\n",
        "\n",
        "Para declarar una declaración condicional, se usa la siguiente sintaxis:\n",
        "\n",
        "```python\n",
        "if condition:\n",
        "    # Block of code for a satisfied condition \n",
        "else:\n",
        "    # Block of code for a non-satisfied condition \n",
        "```\n",
        "\n",
        "#### Ejemplo:\n"
      ]
    },
    {
      "cell_type": "code",
      "metadata": {
        "id": "9oJook66anxJ",
        "outputId": "d08fba5d-e803-4b0c-9447-5d7d12d2074c",
        "colab": {
          "base_uri": "https://localhost:8080/"
        }
      },
      "source": [
        "dog_color = \"black\"\n",
        "color = \"white\"\n",
        "if color == \"black\":\n",
        "    print(\"Indeed, this dog is black.\")\n",
        "else:\n",
        "    print(\"Nope, it is not a black dog.\")"
      ],
      "execution_count": 19,
      "outputs": [
        {
          "output_type": "stream",
          "name": "stdout",
          "text": [
            "Nope, it is not a black dog.\n"
          ]
        }
      ]
    },
    {
      "cell_type": "markdown",
      "metadata": {
        "id": "hkoa6UOarhBD"
      },
      "source": [
        "## Bucles (ciclos)\n",
        "\n",
        "**Iteración** significa ejecutar el mismo bloque de código una y otra vez, potencialmente muchas veces. Una estructura de programación que implementa la iteración se llama **bucle** (o **ciclo**).\n",
        "\n",
        "Hay dos tipos de iteración:\n",
        "- **Iteración definida**, en la que el número de repeticiones se especifica explícitamente de antemano\n",
        "- **Iteración indefinida**, en la que el bloque de código se ejecuta hasta que se cumple alguna condición\n",
        "\n",
        "En Python, la iteración indefinida se realiza con un ciclo `while` y la iteración definida se realiza con un ciclo `for`.\n",
        "\n",
        "### Ciclo `while`\n",
        "\n",
        "Para un ciclo `while` será importante **establecer una condición de parada**. El formato de un ciclo `while` se muestra a continuación:\n",
        "\n",
        "```python\n",
        "while condition:\n",
        "    # Code goes ehre!\n",
        "```\n",
        "\n",
        "#### Ejemplo:\n"
      ]
    },
    {
      "cell_type": "code",
      "metadata": {
        "id": "SSnssdYwqI_G",
        "outputId": "2b66f419-5a28-470a-933d-1966859bb71d",
        "colab": {
          "base_uri": "https://localhost:8080/"
        }
      },
      "source": [
        "n_iteration = 1\n",
        "\n",
        "while n_iteration <= 10:\n",
        "    print(f\"Iteration {n_iteration}.\")\n",
        "    n_iteration +=1"
      ],
      "execution_count": 22,
      "outputs": [
        {
          "output_type": "stream",
          "name": "stdout",
          "text": [
            "Iteration 1.\n",
            "Iteration 2.\n",
            "Iteration 3.\n",
            "Iteration 4.\n",
            "Iteration 5.\n",
            "Iteration 6.\n",
            "Iteration 7.\n",
            "Iteration 8.\n",
            "Iteration 9.\n",
            "Iteration 10.\n"
          ]
        }
      ]
    },
    {
      "cell_type": "markdown",
      "metadata": {
        "id": "xJFl2lQ1qJak"
      },
      "source": [
        "### Ciclo `for`\n",
        "\n",
        "Python tiene un **ciclo basado en colecciones** o **ciclo basado en iteradores**. Este tipo de bucle itera sobre una colección de objetos, en lugar de especificar valores numéricos o condiciones:\n",
        "\n",
        "```python\n",
        "for i in <collection>:\n",
        "    <loop body>\n",
        "```\n",
        "\n",
        "#### Ejemplo:\n",
        "\n",
        "Podemos iterar a través de los elementos de una lista:\n"
      ]
    },
    {
      "cell_type": "code",
      "metadata": {
        "id": "RFk0YLulqOQW",
        "outputId": "badacc62-d52c-4571-b21b-e540b55bc745",
        "colab": {
          "base_uri": "https://localhost:8080/"
        }
      },
      "source": [
        "months = [\n",
        "    'January',\n",
        "    'February',\n",
        "    'March',\n",
        "    'April',\n",
        "    'May',\n",
        "    'June',\n",
        "    'July',\n",
        "    'August',\n",
        "    'September',\n",
        "    'October',\n",
        "    'November',\n",
        "    'December',\n",
        "]\n",
        "\n",
        "for month in months:\n",
        "    print(f\"The current month is {month}.\")"
      ],
      "execution_count": 23,
      "outputs": [
        {
          "output_type": "stream",
          "name": "stdout",
          "text": [
            "The current month is January.\n",
            "The current month is February.\n",
            "The current month is March.\n",
            "The current month is April.\n",
            "The current month is May.\n",
            "The current month is June.\n",
            "The current month is July.\n",
            "The current month is August.\n",
            "The current month is September.\n",
            "The current month is October.\n",
            "The current month is November.\n",
            "The current month is December.\n"
          ]
        }
      ]
    },
    {
      "cell_type": "markdown",
      "metadata": {
        "id": "OHMgj3aavIqc"
      },
      "source": [
        "O iterar solo a través de un rango de números:"
      ]
    },
    {
      "cell_type": "code",
      "metadata": {
        "id": "nevHbKcsvIBa",
        "outputId": "9f65be14-306f-4a62-9781-7fea6ee7b79d",
        "colab": {
          "base_uri": "https://localhost:8080/"
        }
      },
      "source": [
        "for number in range(10):\n",
        "    print(f\"The current number is {number}.\")"
      ],
      "execution_count": 24,
      "outputs": [
        {
          "output_type": "stream",
          "name": "stdout",
          "text": [
            "The current number is 0.\n",
            "The current number is 1.\n",
            "The current number is 2.\n",
            "The current number is 3.\n",
            "The current number is 4.\n",
            "The current number is 5.\n",
            "The current number is 6.\n",
            "The current number is 7.\n",
            "The current number is 8.\n",
            "The current number is 9.\n"
          ]
        }
      ]
    },
    {
      "cell_type": "markdown",
      "metadata": {
        "id": "7Ko9pJ0_vrnb"
      },
      "source": [
        "**Nota:** *¿Todo esto aplica para las tuplas?*\n"
      ]
    },
    {
      "cell_type": "markdown",
      "metadata": {
        "id": "DZOOUM4jrn5O"
      },
      "source": [
        "## Diccionarios\n",
        "\n",
        "Python proporciona otro tipo de datos compuestos llamado **diccionario**, que es similar a una lista en que es una colección de objetos.\n",
        "\n",
        "Los diccionarios son diferentes de las listas principalmente por cómo acceder a sus elementos:\n",
        "\n",
        "- Se accede a los elementos de la lista por su posición en la lista, mediante indexación.\n",
        "- Se accede a los elementos del diccionario mediante llaves o claves (pares clave-valor)."
      ]
    },
    {
      "cell_type": "code",
      "metadata": {
        "id": "FNo_LTSuzEvk",
        "outputId": "78feb417-5976-445d-cdf8-67defb83a3ad",
        "colab": {
          "base_uri": "https://localhost:8080/",
          "height": 35
        }
      },
      "source": [
        "student = {\n",
        "    \"name\": \"Jesús López\",\n",
        "    \"email\": \"algo@gmail.com\"\n",
        "}\n",
        "\n",
        "student ['email']"
      ],
      "execution_count": 2,
      "outputs": [
        {
          "output_type": "execute_result",
          "data": {
            "application/vnd.google.colaboratory.intrinsic+json": {
              "type": "string"
            },
            "text/plain": [
              "'algo@gmail.com'"
            ]
          },
          "metadata": {},
          "execution_count": 2
        }
      ]
    },
    {
      "cell_type": "code",
      "source": [
        "student['age'] = 23"
      ],
      "metadata": {
        "id": "30PDd4Gh-G4X"
      },
      "execution_count": 3,
      "outputs": []
    },
    {
      "cell_type": "code",
      "source": [
        "print(student)"
      ],
      "metadata": {
        "id": "GsDhm6fg-Mgw",
        "outputId": "4baaf915-8461-4230-9c87-660fe5498877",
        "colab": {
          "base_uri": "https://localhost:8080/"
        }
      },
      "execution_count": 4,
      "outputs": [
        {
          "output_type": "stream",
          "name": "stdout",
          "text": [
            "{'name': 'Jesús López', 'email': 'algo@gmail.com', 'age': 23}\n"
          ]
        }
      ]
    },
    {
      "cell_type": "code",
      "source": [
        "student.keys()"
      ],
      "metadata": {
        "id": "082nl-l7-i0H",
        "outputId": "597e217a-c1e4-4220-fb36-7963bdd335be",
        "colab": {
          "base_uri": "https://localhost:8080/"
        }
      },
      "execution_count": 5,
      "outputs": [
        {
          "output_type": "execute_result",
          "data": {
            "text/plain": [
              "dict_keys(['name', 'email', 'age'])"
            ]
          },
          "metadata": {},
          "execution_count": 5
        }
      ]
    },
    {
      "cell_type": "code",
      "source": [
        "for key in student.keys():\n",
        "  print(student[key])"
      ],
      "metadata": {
        "id": "U61M7-FH-ro4",
        "outputId": "d77222ef-5bc6-4d8e-acb4-c2a77d168edf",
        "colab": {
          "base_uri": "https://localhost:8080/"
        }
      },
      "execution_count": 6,
      "outputs": [
        {
          "output_type": "stream",
          "name": "stdout",
          "text": [
            "Jesús López\n",
            "algo@gmail.com\n",
            "23\n"
          ]
        }
      ]
    },
    {
      "cell_type": "code",
      "source": [
        "student.values()"
      ],
      "metadata": {
        "id": "x3K8G-tJ_MA_",
        "outputId": "322c4ad4-afcd-406a-b0c7-4acf45b50fe4",
        "colab": {
          "base_uri": "https://localhost:8080/"
        }
      },
      "execution_count": 8,
      "outputs": [
        {
          "output_type": "execute_result",
          "data": {
            "text/plain": [
              "dict_values(['Jesús López', 'algo@gmail.com', 23])"
            ]
          },
          "metadata": {},
          "execution_count": 8
        }
      ]
    },
    {
      "cell_type": "code",
      "source": [
        "student.items()"
      ],
      "metadata": {
        "id": "kCqg5U27_Yqo",
        "outputId": "a574a8b4-3bd5-4bef-a05b-e308854ee23b",
        "colab": {
          "base_uri": "https://localhost:8080/"
        }
      },
      "execution_count": 9,
      "outputs": [
        {
          "output_type": "execute_result",
          "data": {
            "text/plain": [
              "dict_items([('name', 'Jesús López'), ('email', 'algo@gmail.com'), ('age', 23)])"
            ]
          },
          "metadata": {},
          "execution_count": 9
        }
      ]
    },
    {
      "cell_type": "code",
      "source": [
        "for key, value in student.items():\n",
        "  print(key, value)"
      ],
      "metadata": {
        "id": "AutPjyKu_jrv",
        "outputId": "20289da7-9eda-4fe4-a096-9d77121bf094",
        "colab": {
          "base_uri": "https://localhost:8080/"
        }
      },
      "execution_count": 10,
      "outputs": [
        {
          "output_type": "stream",
          "name": "stdout",
          "text": [
            "name Jesús López\n",
            "email algo@gmail.com\n",
            "age 23\n"
          ]
        }
      ]
    },
    {
      "cell_type": "markdown",
      "metadata": {
        "id": "i6I0b2UkzcJb"
      },
      "source": [
        "## Funciones\n",
        "\n",
        "Las funciones nos permitirán empaquetar código que puede ser invocado a través de una línea con el nombre de la función.\n",
        "\n",
        "La estructura básica de una función es como sigue:\n",
        "\n",
        "```python\n",
        "def name_of_function(arguments):\n",
        "    # Code of the function\n",
        "\n",
        "    return something\n",
        "```\n",
        "\n",
        "La nomenclatura de las funciones es consistente con la de las variables."
      ]
    },
    {
      "cell_type": "code",
      "metadata": {
        "id": "PZTz7Shhrs1M"
      },
      "source": [
        "# Implement the 2nd of the Newton's laws of motion\n",
        "\n",
        "def F(m, a):\n",
        "  fuerza = m * a\n",
        "  return fuerza\n"
      ],
      "execution_count": 15,
      "outputs": []
    },
    {
      "cell_type": "code",
      "source": [
        "print(f\"{F(60, 3)} N (Newton)\")"
      ],
      "metadata": {
        "id": "e8Rr5c_TAp9G",
        "outputId": "dad706f4-ddd8-4d57-e09d-8e133d9f698c",
        "colab": {
          "base_uri": "https://localhost:8080/"
        }
      },
      "execution_count": 16,
      "outputs": [
        {
          "output_type": "stream",
          "name": "stdout",
          "text": [
            "180 N (Newton)\n"
          ]
        }
      ]
    },
    {
      "cell_type": "code",
      "source": [
        "print(f\"{F(70, 9.81)} N (Newton)\")"
      ],
      "metadata": {
        "id": "inlktUwBBwkz",
        "outputId": "73ad103e-64f3-4321-f95e-0ee68203c59a",
        "colab": {
          "base_uri": "https://localhost:8080/"
        }
      },
      "execution_count": 17,
      "outputs": [
        {
          "output_type": "stream",
          "name": "stdout",
          "text": [
            "686.7 N (Newton)\n"
          ]
        }
      ]
    },
    {
      "cell_type": "markdown",
      "source": [
        "#Ejemplo 1\n",
        "-  Procedimiento CalcularMaxMin: recibe una lista de enteros  y devuelve\n",
        "el máximo y el mínimo de los números guardados en el vector.\n",
        "Parámetros de entrada: lista de enteros\n",
        "Valores de salida: valor máximo y mínimo"
      ],
      "metadata": {
        "id": "w6i3aF0EzsbT"
      }
    },
    {
      "cell_type": "code",
      "source": [
        "# Ejemplo 1\n",
        "\n",
        "import random\n",
        "\n",
        "def CalcularMaxMin(lista):\n",
        "  return(max(lista), min(lista))\n",
        "\n",
        "Numeros = []\n",
        "\n",
        "for i in range(10):\n",
        "  Numeros.append(random.randint(1, 101))\n",
        "  \n",
        "print(Numeros)\n",
        "vmax, vmin = CalcularMaxMin(Numeros)\n",
        "print(\"El valor máximo es: \", vmax)\n",
        "print(\"El valor minimo es: \", vmin)"
      ],
      "metadata": {
        "id": "erZUUm7pw7qc",
        "outputId": "c9a4f194-a383-4499-c813-17f24fcc96bd",
        "colab": {
          "base_uri": "https://localhost:8080/"
        }
      },
      "execution_count": 30,
      "outputs": [
        {
          "output_type": "stream",
          "name": "stdout",
          "text": [
            "[16, 25, 36, 72, 67, 57, 96, 52, 45, 40]\n",
            "El valor máximo es:  96\n",
            "El valor minimo es:  16\n"
          ]
        }
      ]
    },
    {
      "cell_type": "markdown",
      "source": [
        "#Ejemplo 2\n",
        "\n",
        "- Función CalcularAreaPerimetro: recibe el radio de una circunferencia y\n",
        "devuelve el área y el perímetro.\n",
        "Parámetros de entrada: radio (real)\n",
        "Valores de salida: área y perímetro (real)"
      ],
      "metadata": {
        "id": "xKZM-l4F0AEr"
      }
    },
    {
      "cell_type": "code",
      "source": [
        "# Ejemplo 2\n",
        "\n",
        "import math\n",
        "\n",
        "def CalcularAreaPerimetro(radio):\n",
        "  area = math.pi * radio**2\n",
        "  perimetro = 2 * math.pi * radio\n",
        "  return area, perimetro\n",
        "\n",
        "radio = float(input(\"Introduce el radio: \"))\n",
        "area, perimetro = CalcularAreaPerimetro(radio)\n",
        "\n",
        "print(\"Area: \", area)\n",
        "print(\"Perimetro: \", perimetro)"
      ],
      "metadata": {
        "id": "jnCZxGp0wecv",
        "outputId": "41d72451-f4d6-4566-a394-1f1f055b4d30",
        "colab": {
          "base_uri": "https://localhost:8080/"
        }
      },
      "execution_count": 32,
      "outputs": [
        {
          "output_type": "stream",
          "name": "stdout",
          "text": [
            "Introduce el radio: 8\n",
            "Area:  201.06192982974676\n",
            "Perimetro:  50.26548245743669\n"
          ]
        }
      ]
    },
    {
      "cell_type": "markdown",
      "source": [
        "# Ejemplo 3\n",
        "\n",
        "- Función centrar: Recibe una cadena y la imprime centrada en la pantalla."
      ],
      "metadata": {
        "id": "u0XxKuyQ0Qeg"
      }
    },
    {
      "cell_type": "code",
      "source": [
        "#Ejemplo 3\n",
        "\n",
        "def Centrar(cadena):\n",
        "  print(\" \" * int(40 - (len(cadena)/2)), cadena)\n",
        "  print(\" \" * int(40 - (len(cadena)/2)), \"=\" * len(cadena))\n",
        "\n",
        "mensaje1 = \"HackWomen\"\n",
        "Centrar(mensaje1)\n",
        "mensaje2 = \"Skills For Women in Tech\"\n",
        "Centrar(mensaje2)"
      ],
      "metadata": {
        "id": "iDD9RDGNtrGk",
        "outputId": "3655d4f4-d7f3-409c-b13d-9569e4ac5e25",
        "colab": {
          "base_uri": "https://localhost:8080/"
        }
      },
      "execution_count": 34,
      "outputs": [
        {
          "output_type": "stream",
          "name": "stdout",
          "text": [
            "                                    HackWomen\n",
            "                                    =========\n",
            "                             Skills For Women in Tech\n",
            "                             ========================\n"
          ]
        }
      ]
    },
    {
      "cell_type": "markdown",
      "source": [
        "# Ejemplo 4\n",
        "\n",
        "- Función Convertir a  segundos: Recibe una cantidad de horas, minutos y segundos y calcula a cuantos segundos corresponde."
      ],
      "metadata": {
        "id": "qqg4K8rc0gjL"
      }
    },
    {
      "cell_type": "code",
      "source": [
        "# Ejemplo 4\n",
        "\n",
        "def Convertir_A_Segundos(h, min, seg):\n",
        "  return (h * 3600) + (min * 60) + s\n",
        "\n",
        "def Convertir_A_HMS(seg):\n",
        "  h = seg // 3600\n",
        "  seg = seg - (h *3600)\n",
        "  min = seg // 60\n",
        "  seg = seg - (min * 60)\n",
        "  \n",
        "  return h, min, seg\n",
        "\n",
        "while True:\n",
        "  print(\"1. Convertir a segundos\")\n",
        "  print(\"2. Convertir a horas, minutos y segundos\")\n",
        "  print(\"3. Salir\")\n",
        "\n",
        "  opcion= int(input())\n",
        "  if opcion == 1:\n",
        "    hor = int(input(\"Horas: \"))\n",
        "    minu = int(input(\"Minutos: \"))\n",
        "    s = int(input(\"Segundos:\"))\n",
        "    print(\"Corresponde a\", Convertir_A_Segundos(hor, minu, s), \"segundos\")\n",
        "  elif opcion == 2:\n",
        "    segund = int(input(\"Segundos:\"))\n",
        "    hor, minu, s = Convertir_A_HMS(segund)\n",
        "    print(\"Corresponde a\", hor, \":\", minu, \":\", s)\n",
        "  elif opcion == 3:\n",
        "    break;\n",
        "  else:\n",
        "    print(\"Opción incorrecta\")"
      ],
      "metadata": {
        "id": "1Nmk9-iS0gCg",
        "outputId": "fe271ebd-6e29-4362-b659-aaf142b8834e",
        "colab": {
          "base_uri": "https://localhost:8080/"
        }
      },
      "execution_count": 37,
      "outputs": [
        {
          "name": "stdout",
          "output_type": "stream",
          "text": [
            "1. Convertir a segundos\n",
            "2. Convertir a horas, minutos y segundos\n",
            "3. Salir\n",
            "2\n",
            "Segundos:89\n",
            "Corresponde a 0 : 1 : 29\n",
            "1. Convertir a segundos\n",
            "2. Convertir a horas, minutos y segundos\n",
            "3. Salir\n",
            "7\n",
            "Opción incorrecta\n",
            "1. Convertir a segundos\n",
            "2. Convertir a horas, minutos y segundos\n",
            "3. Salir\n",
            "5\n",
            "Opción incorrecta\n",
            "1. Convertir a segundos\n",
            "2. Convertir a horas, minutos y segundos\n",
            "3. Salir\n",
            "3\n"
          ]
        }
      ]
    },
    {
      "cell_type": "markdown",
      "source": [
        "# Ejemplo 5\n",
        "\n",
        "- Función ValidarFecha: Recibe un día, mes y año correspondiente a una fecha y  devuelve si la fecha es correcta o no.\n",
        "Simplemente miramos si el día indicado es mayor que 1 y menor que los días del mes. Si introducimos un mes incorrecto, la función DiasDelMes devuelve 0 por lo tanto la fecha va a ser incorrecta.\n",
        "Parámetros de entrada: día, mes y año\n",
        "-  Dato devuelto: Valor lógico indicando si es correcta (Verdadero) o no (Falso)"
      ],
      "metadata": {
        "id": "8QeHRDNa1C3n"
      }
    },
    {
      "cell_type": "code",
      "source": [
        "#Ejemplo 5"
      ],
      "metadata": {
        "id": "ejA6sUme1bS2"
      },
      "execution_count": null,
      "outputs": []
    },
    {
      "cell_type": "markdown",
      "metadata": {
        "id": "w7DrerwS1zd_"
      },
      "source": [
        "## ¡A resolver el reto!\n",
        "\n",
        "Vamos a prodecer a crear una lista de diccionarios, esto es, un directorio de estudiantes de SKILLS FOR WOMEN IN TECH que participarán en una edición en línea.\n",
        "\n",
        "Cada estudiante debe tener los siguientes atributos:\n",
        "- Nombre <str>\n",
        "- Edad <int>\n",
        "- Temas <lista>\n",
        "- Menores de edad <bool>\n",
        "\n",
        "Puedes asignar los datos a mano o utilizar funciones aleatorias para llenar los campos."
      ]
    },
    {
      "cell_type": "code",
      "metadata": {
        "id": "SVynPZKD2RAm"
      },
      "source": [
        "# All your code goes here!!!"
      ],
      "execution_count": null,
      "outputs": []
    },
    {
      "cell_type": "markdown",
      "metadata": {
        "id": "efpB7jYb3hQj"
      },
      "source": [
        "--------\n",
        "\n",
        "> Contenido creado por **Jesús López**  2022. <br>\n",
        "> Contacto: [@jalopez_garcia](https://www.instagram.com/jalopez_garcia/) & [@jalopez_garcia](https://twitter.com/jalopez_garcia)"
      ]
    }
  ]
}