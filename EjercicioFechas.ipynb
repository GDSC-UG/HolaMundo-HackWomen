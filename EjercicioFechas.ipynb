{
  "nbformat": 4,
  "nbformat_minor": 0,
  "metadata": {
    "colab": {
      "name": "EjercicioFechas.ipynb",
      "provenance": [],
      "authorship_tag": "ABX9TyNNK2dzDvrneGxUt8tVPCGo",
      "include_colab_link": true
    },
    "kernelspec": {
      "name": "python3",
      "display_name": "Python 3"
    },
    "language_info": {
      "name": "python"
    }
  },
  "cells": [
    {
      "cell_type": "markdown",
      "metadata": {
        "id": "view-in-github",
        "colab_type": "text"
      },
      "source": [
        "<a href=\"https://colab.research.google.com/github/TeposteAJ/HolaMundo-HackWomen/blob/main/EjercicioFechas.ipynb\" target=\"_parent\"><img src=\"https://colab.research.google.com/assets/colab-badge.svg\" alt=\"Open In Colab\"/></a>"
      ]
    },
    {
      "cell_type": "code",
      "source": [
        "#definiendo función\n",
        "def ValidarFecha(d,m,a):\n",
        "  # El año existe ? \n",
        "  if a<1 or a>2022:\n",
        "      print(\"Tu año aun no existe oficialmente y no hay certeza de que existira.\")\n",
        "      return (False)\n",
        "  elif a>1 or a<2022:\n",
        "    if m > 12 or m<1: \n",
        "      print(\"Tu mes no existe oficialmente.\")\n",
        "      return(False)\n",
        "    elif m < 12 or m>1: \n",
        "      if m==1 or m==3 or m==5 or m==7 or m==8 or m==10 or m==12: # Para 31 días\n",
        "        #print(\"si ingrese a los meses de 31 días\")\n",
        "        if d<1 or d>31:\n",
        "          print (\"El día\",d,\"No existe para el mes que seleccionaste\")\n",
        "          return (False)\n",
        "        elif d>1 and d<=31:\n",
        "          return (True)\n",
        "      elif m==4 or m==6 or m==9 or m==11:# Para 30 días\n",
        "        if d<1 or d>30: \n",
        "          print (\"El día\",d,\"No existe para el mes que seleccionaste\")\n",
        "          return (False)\n",
        "        elif d>1 and d<=30:\n",
        "          return (True)\n",
        "      else:\n",
        "        if d<1 or d>29:\n",
        "          print (\"El día\",d,\"No existe para el mes de Febrero\")\n",
        "          return (False)\n",
        "        elif d<=28:\n",
        "          return (True)\n",
        "        elif d>28: \n",
        "          bisiesto = int(input(\"¿Es tu año bisiesto? 1. Sí , 2. No\"))\n",
        "          if bisiesto == 1:\n",
        "            if d== 29:\n",
        "              return (True)\n",
        "          elif bisiesto == 2:\n",
        "              print (\"El día\",d,\"No existe para el mes de Febrero en año NO bisiesto\")\n",
        "              return (False)\n",
        "          else:\n",
        "            print(\"Saliste fuera del límite de las opciones. ¡ADIOS!\")\n",
        "            Break\n",
        "\n",
        "      #print(\"Por ahora todo bien\")\n",
        "\n",
        " "
      ],
      "metadata": {
        "id": "XXLAwB8P0Rij"
      },
      "execution_count": 54,
      "outputs": []
    },
    {
      "cell_type": "code",
      "source": [
        "#año = int(input(\"Ingresa tu año:\"))\n",
        "#mes = int(input(\"Ingresa tu mes(númericamente):\"))\n",
        "dia = int(input(\"Ingresa tu día:\"))\n",
        "año=2020\n",
        "mes=14\n",
        "resultado = ValidarFecha(dia,mes,año)\n",
        "\n",
        "if resultado == True: \n",
        "   print (\"Tu fecha existe. yehi!\")\n",
        "elif resultado == False: \n",
        "   print(\"Por lo tanto, concluyo que: NO EXISTE TU FECHA.\")\n",
        "else:\n",
        "  print (\"Intenta nuevamente con otra fecha.\")\n"
      ],
      "metadata": {
        "colab": {
          "base_uri": "https://localhost:8080/"
        },
        "id": "nXW-qMXw0vPC",
        "outputId": "ab51c0d1-a352-44a0-c1b0-3369d64deab9"
      },
      "execution_count": 58,
      "outputs": [
        {
          "output_type": "stream",
          "name": "stdout",
          "text": [
            "Ingresa tu día:2\n",
            "Tu mes no existe oficialmente.\n",
            "Por lo tanto, concluyo que: NO EXISTE TU FECHA.\n"
          ]
        }
      ]
    }
  ]
}