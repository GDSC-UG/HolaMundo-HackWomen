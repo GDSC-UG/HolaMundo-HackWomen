{
  "nbformat": 4,
  "nbformat_minor": 0,
  "metadata": {
    "colab": {
      "name": "EjercicioFechas.ipynb",
      "provenance": [],
      "authorship_tag": "ABX9TyOtaK+qlHZsgrFpukCgrBQl",
      "include_colab_link": true
    },
    "kernelspec": {
      "name": "python3",
      "display_name": "Python 3"
    },
    "language_info": {
      "name": "python"
    }
  },
  "cells": [
    {
      "cell_type": "markdown",
      "metadata": {
        "id": "view-in-github",
        "colab_type": "text"
      },
      "source": [
        "<a href=\"https://colab.research.google.com/github/TeposteAJ/HolaMundo-HackWomen/blob/main/EjercicioFechas.ipynb\" target=\"_parent\"><img src=\"https://colab.research.google.com/assets/colab-badge.svg\" alt=\"Open In Colab\"/></a>"
      ]
    },
    {
      "cell_type": "code",
      "source": [
        "#definiendo función que me dice si una fecha es valida. \n",
        "def ValidarFecha(d,m,a):\n",
        "# El año existe \n",
        "  if a<1 or a>2022:   # No existe el año\n",
        "      print(\"Tu año aun no existe oficialmente y no hay certeza de que existira.\")\n",
        "      return (False)    \n",
        "  elif a>1 or a<2022:  #El año existe\n",
        "    #El mes existe\n",
        "    if m > 12 or m<1:  #No existe el mes\n",
        "      print(\"Tu mes no existe oficialmente.\")\n",
        "      return(False)\n",
        "    elif m < 12 or m>1:  #El mes existe\n",
        "      if m==1 or m==3 or m==5 or m==7 or m==8 or m==10 or m==12: #Para meses de 31 días\n",
        "        if d<1 or d>31:  #No existe el día\n",
        "          print (\"El día\",d,\"No existe para el mes que seleccionaste\")\n",
        "          return (False)\n",
        "        elif d>1 and d<=31: #El día existe\n",
        "          return (True)\n",
        "      elif m==4 or m==6 or m==9 or m==11:#Para meses de 30 días\n",
        "        if d<1 or d>30:  #No existe el día\n",
        "          print (\"El día\",d,\"No existe para el mes que seleccionaste\")\n",
        "          return (False)\n",
        "        elif d>1 and d<=30: #El día existe\n",
        "          return (True)\n",
        "      else:           # Para Febrero\n",
        "        if d<1 or d>29:     # No existe el día\n",
        "          print (\"El día\",d,\"No existe para el mes de Febrero\")\n",
        "          return (False)\n",
        "        elif d<=28:     # El día existe\n",
        "          return (True)\n",
        "        elif d>28:      # El día existe solo si es bisiesto\n",
        "          bisiesto = int(input(\"¿Es tu año bisiesto? 1. Sí , 2. No\"))\n",
        "          if bisiesto == 1:\n",
        "            if d== 29:\n",
        "              return (True)\n",
        "          elif bisiesto == 2:\n",
        "              print (\"El día\",d,\"No existe para el mes de Febrero en año NO bisiesto\")\n",
        "              return (False)\n",
        "          else:       # No se como llegar aquí\n",
        "            print(\"Saliste fuera del límite de las opciones. ¡ADIOS!\")\n",
        "            Break\n",
        "\n",
        " "
      ],
      "metadata": {
        "id": "XXLAwB8P0Rij"
      },
      "execution_count": null,
      "outputs": []
    },
    {
      "cell_type": "code",
      "source": [
        "# Solicitar por entrada la fecha pidiendo día, mes y año\n",
        "año = int(input(\"Ingresa tu año:\"))\n",
        "mes = int(input(\"Ingresa tu mes(númericamente):\"))\n",
        "dia = int(input(\"Ingresa tu día:\"))\n",
        "\n",
        "#Llamando a la función\n",
        "resultado = ValidarFecha(dia,mes,año)\n",
        "\n",
        "#El resultado fue Verdadero. La fecha existe\n",
        "if resultado == True: \n",
        "   print (\"Tu fecha existe. yehi!\")\n",
        "#El resultado fue Falso. La fecha no existe.\n",
        "elif resultado == False: \n",
        "   print(\"Por lo tanto, concluyo que: NO EXISTE TU FECHA.\")\n",
        "#Solo por precaución por si se sale de los limites. \n",
        "else:\n",
        "  print (\"Intenta nuevamente con otra fecha.\")\n"
      ],
      "metadata": {
        "id": "nXW-qMXw0vPC"
      },
      "execution_count": null,
      "outputs": []
    },
    {
      "cell_type": "code",
      "metadata": {
        "id": "vF6dtqFDI8ff"
      },
      "source": [
        "student = {\n",
        "    \"name\": \"Ángela Teposte\",\n",
        "    \"edad\": 27 ,\n",
        "    \"Temas\": \"Nose\",\n",
        "    \"Menores de edad\": False,\n",
        "}"
      ],
      "execution_count": 61,
      "outputs": []
    }
  ]
}